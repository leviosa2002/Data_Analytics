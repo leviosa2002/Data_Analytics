{
 "cells": [
  {
   "cell_type": "markdown",
   "id": "90fa8e57-fc38-4fc9-a4a0-f8981489aa82",
   "metadata": {},
   "source": [
    "## Data Preprocessing"
   ]
  },
  {
   "cell_type": "code",
   "execution_count": 2,
   "id": "1e2f9ba2-e6b4-446c-a3c7-636ed6c0714a",
   "metadata": {},
   "outputs": [],
   "source": [
    "import pandas as pd\n",
    "import numpy as np"
   ]
  },
  {
   "cell_type": "code",
   "execution_count": 3,
   "id": "361fb3df-b8ca-450a-8c75-c90e6468fd54",
   "metadata": {},
   "outputs": [],
   "source": [
    "data = pd.read_csv(\"data.csv\")"
   ]
  },
  {
   "cell_type": "code",
   "execution_count": 4,
   "id": "2ba1fb0b-28eb-444e-a4a5-8d9dbae401e3",
   "metadata": {},
   "outputs": [
    {
     "data": {
      "text/html": [
       "<div>\n",
       "<style scoped>\n",
       "    .dataframe tbody tr th:only-of-type {\n",
       "        vertical-align: middle;\n",
       "    }\n",
       "\n",
       "    .dataframe tbody tr th {\n",
       "        vertical-align: top;\n",
       "    }\n",
       "\n",
       "    .dataframe thead th {\n",
       "        text-align: right;\n",
       "    }\n",
       "</style>\n",
       "<table border=\"1\" class=\"dataframe\">\n",
       "  <thead>\n",
       "    <tr style=\"text-align: right;\">\n",
       "      <th></th>\n",
       "      <th>Summary</th>\n",
       "      <th>Unnamed: 1</th>\n",
       "      <th>Unnamed: 2</th>\n",
       "      <th>Unnamed: 3</th>\n",
       "      <th>Unnamed: 4</th>\n",
       "      <th>Unnamed: 5</th>\n",
       "      <th>Unnamed: 6</th>\n",
       "      <th>Unnamed: 7</th>\n",
       "      <th>Unnamed: 8</th>\n",
       "      <th>Unnamed: 9</th>\n",
       "    </tr>\n",
       "  </thead>\n",
       "  <tbody>\n",
       "    <tr>\n",
       "      <th>0</th>\n",
       "      <td>OrgId</td>\n",
       "      <td>ParticipantId</td>\n",
       "      <td>DeviceId</td>\n",
       "      <td>InstalledDate</td>\n",
       "      <td>AcceptanceDate</td>\n",
       "      <td>Extension</td>\n",
       "      <td>BrowsingCount</td>\n",
       "      <td>BookmarkCount</td>\n",
       "      <td>CookieCount</td>\n",
       "      <td>NaN</td>\n",
       "    </tr>\n",
       "    <tr>\n",
       "      <th>1</th>\n",
       "      <td>py_demo_client</td>\n",
       "      <td>demoUser@py-insights.com</td>\n",
       "      <td>2nwjevbvxzm7ehb254</td>\n",
       "      <td>2025-02-20T23:58:02-08:00</td>\n",
       "      <td>2025-02-20T23:58:20-08:00</td>\n",
       "      <td>Chrome</td>\n",
       "      <td>5104</td>\n",
       "      <td>0</td>\n",
       "      <td>0</td>\n",
       "      <td>NaN</td>\n",
       "    </tr>\n",
       "    <tr>\n",
       "      <th>2</th>\n",
       "      <td>NaN</td>\n",
       "      <td>NaN</td>\n",
       "      <td>NaN</td>\n",
       "      <td>NaN</td>\n",
       "      <td>NaN</td>\n",
       "      <td>NaN</td>\n",
       "      <td>NaN</td>\n",
       "      <td>NaN</td>\n",
       "      <td>NaN</td>\n",
       "      <td>NaN</td>\n",
       "    </tr>\n",
       "    <tr>\n",
       "      <th>3</th>\n",
       "      <td>Browsing</td>\n",
       "      <td>NaN</td>\n",
       "      <td>NaN</td>\n",
       "      <td>NaN</td>\n",
       "      <td>NaN</td>\n",
       "      <td>NaN</td>\n",
       "      <td>NaN</td>\n",
       "      <td>NaN</td>\n",
       "      <td>NaN</td>\n",
       "      <td>NaN</td>\n",
       "    </tr>\n",
       "    <tr>\n",
       "      <th>4</th>\n",
       "      <td>OrgId</td>\n",
       "      <td>ParticipantId</td>\n",
       "      <td>DeviceId</td>\n",
       "      <td>url</td>\n",
       "      <td>eventtimeutc</td>\n",
       "      <td>transition</td>\n",
       "      <td>title</td>\n",
       "      <td>visitId</td>\n",
       "      <td>referringVisitId</td>\n",
       "      <td>eventtime</td>\n",
       "    </tr>\n",
       "  </tbody>\n",
       "</table>\n",
       "</div>"
      ],
      "text/plain": [
       "          Summary                Unnamed: 1          Unnamed: 2  \\\n",
       "0           OrgId             ParticipantId            DeviceId   \n",
       "1  py_demo_client  demoUser@py-insights.com  2nwjevbvxzm7ehb254   \n",
       "2             NaN                       NaN                 NaN   \n",
       "3        Browsing                       NaN                 NaN   \n",
       "4           OrgId             ParticipantId            DeviceId   \n",
       "\n",
       "                  Unnamed: 3                 Unnamed: 4  Unnamed: 5  \\\n",
       "0              InstalledDate             AcceptanceDate   Extension   \n",
       "1  2025-02-20T23:58:02-08:00  2025-02-20T23:58:20-08:00      Chrome   \n",
       "2                        NaN                        NaN         NaN   \n",
       "3                        NaN                        NaN         NaN   \n",
       "4                        url               eventtimeutc  transition   \n",
       "\n",
       "      Unnamed: 6     Unnamed: 7        Unnamed: 8 Unnamed: 9  \n",
       "0  BrowsingCount  BookmarkCount       CookieCount        NaN  \n",
       "1           5104              0                 0        NaN  \n",
       "2            NaN            NaN               NaN        NaN  \n",
       "3            NaN            NaN               NaN        NaN  \n",
       "4          title        visitId  referringVisitId  eventtime  "
      ]
     },
     "execution_count": 4,
     "metadata": {},
     "output_type": "execute_result"
    }
   ],
   "source": [
    "data.head() #As the Row 0 is actually column name ler's reload the data"
   ]
  },
  {
   "cell_type": "code",
   "execution_count": 5,
   "id": "1fc96550-b20f-41b9-9ac4-d1fcf1e8867b",
   "metadata": {},
   "outputs": [
    {
     "data": {
      "text/html": [
       "<div>\n",
       "<style scoped>\n",
       "    .dataframe tbody tr th:only-of-type {\n",
       "        vertical-align: middle;\n",
       "    }\n",
       "\n",
       "    .dataframe tbody tr th {\n",
       "        vertical-align: top;\n",
       "    }\n",
       "\n",
       "    .dataframe thead th {\n",
       "        text-align: right;\n",
       "    }\n",
       "</style>\n",
       "<table border=\"1\" class=\"dataframe\">\n",
       "  <thead>\n",
       "    <tr style=\"text-align: right;\">\n",
       "      <th></th>\n",
       "      <th>OrgId</th>\n",
       "      <th>ParticipantId</th>\n",
       "      <th>DeviceId</th>\n",
       "      <th>InstalledDate</th>\n",
       "      <th>AcceptanceDate</th>\n",
       "      <th>Extension</th>\n",
       "      <th>BrowsingCount</th>\n",
       "      <th>BookmarkCount</th>\n",
       "      <th>CookieCount</th>\n",
       "      <th>NaN</th>\n",
       "    </tr>\n",
       "  </thead>\n",
       "  <tbody>\n",
       "    <tr>\n",
       "      <th>0</th>\n",
       "      <td>py_demo_client</td>\n",
       "      <td>demoUser@py-insights.com</td>\n",
       "      <td>2nwjevbvxzm7ehb254</td>\n",
       "      <td>2025-02-20T23:58:02-08:00</td>\n",
       "      <td>2025-02-20T23:58:20-08:00</td>\n",
       "      <td>Chrome</td>\n",
       "      <td>5104</td>\n",
       "      <td>0</td>\n",
       "      <td>0</td>\n",
       "      <td>NaN</td>\n",
       "    </tr>\n",
       "  </tbody>\n",
       "</table>\n",
       "</div>"
      ],
      "text/plain": [
       "0           OrgId             ParticipantId            DeviceId  \\\n",
       "0  py_demo_client  demoUser@py-insights.com  2nwjevbvxzm7ehb254   \n",
       "\n",
       "0              InstalledDate             AcceptanceDate Extension  \\\n",
       "0  2025-02-20T23:58:02-08:00  2025-02-20T23:58:20-08:00    Chrome   \n",
       "\n",
       "0 BrowsingCount BookmarkCount CookieCount  NaN  \n",
       "0          5104             0           0  NaN  "
      ]
     },
     "execution_count": 5,
     "metadata": {},
     "output_type": "execute_result"
    }
   ],
   "source": [
    "data_summary = data.iloc[0:2,:]\n",
    "#To make row_0 as column headers\n",
    "data_summary.columns = data_summary.iloc[0]\n",
    "data_summary = data_summary.drop(0)\n",
    "data_summary.reset_index(drop=True, inplace=True)\n",
    "data_summary.head()\n"
   ]
  },
  {
   "cell_type": "code",
   "execution_count": 6,
   "id": "51dcbe6f-afa0-4dce-acbd-bb2e70f7d6de",
   "metadata": {},
   "outputs": [
    {
     "data": {
      "text/html": [
       "<div>\n",
       "<style scoped>\n",
       "    .dataframe tbody tr th:only-of-type {\n",
       "        vertical-align: middle;\n",
       "    }\n",
       "\n",
       "    .dataframe tbody tr th {\n",
       "        vertical-align: top;\n",
       "    }\n",
       "\n",
       "    .dataframe thead th {\n",
       "        text-align: right;\n",
       "    }\n",
       "</style>\n",
       "<table border=\"1\" class=\"dataframe\">\n",
       "  <thead>\n",
       "    <tr style=\"text-align: right;\">\n",
       "      <th></th>\n",
       "      <th>OrgId</th>\n",
       "      <th>ParticipantId</th>\n",
       "      <th>DeviceId</th>\n",
       "      <th>url</th>\n",
       "      <th>eventtimeutc</th>\n",
       "      <th>transition</th>\n",
       "      <th>title</th>\n",
       "      <th>visitId</th>\n",
       "      <th>referringVisitId</th>\n",
       "      <th>eventtime</th>\n",
       "    </tr>\n",
       "  </thead>\n",
       "  <tbody>\n",
       "    <tr>\n",
       "      <th>0</th>\n",
       "      <td>py_demo_client</td>\n",
       "      <td>demo</td>\n",
       "      <td>2nwjevbvxzm7ehb254</td>\n",
       "      <td>chrome-extension://hkmmnfimlpcphpgnmgdecpdpaef...</td>\n",
       "      <td>2025-02-21T07:58:02.688Z</td>\n",
       "      <td>link</td>\n",
       "      <td>NaN</td>\n",
       "      <td>166328</td>\n",
       "      <td>0</td>\n",
       "      <td>2025-02-20T23:58:02-08:00</td>\n",
       "    </tr>\n",
       "    <tr>\n",
       "      <th>1</th>\n",
       "      <td>py_demo_client</td>\n",
       "      <td>demo</td>\n",
       "      <td>2nwjevbvxzm7ehb254</td>\n",
       "      <td>https://chromewebstore.google.com/detail/snaps...</td>\n",
       "      <td>2025-02-21T07:57:51.308Z</td>\n",
       "      <td>link</td>\n",
       "      <td>Snapshot - Chrome Web Store</td>\n",
       "      <td>166327</td>\n",
       "      <td>166326</td>\n",
       "      <td>2025-02-20T23:57:51-08:00</td>\n",
       "    </tr>\n",
       "    <tr>\n",
       "      <th>2</th>\n",
       "      <td>py_demo_client</td>\n",
       "      <td>demo</td>\n",
       "      <td>2nwjevbvxzm7ehb254</td>\n",
       "      <td>https://py-insights.com/account/demo/product?s...</td>\n",
       "      <td>2025-02-21T07:57:40.972Z</td>\n",
       "      <td>link</td>\n",
       "      <td>PY Insights | Product</td>\n",
       "      <td>166319</td>\n",
       "      <td>0</td>\n",
       "      <td>2025-02-20T23:57:40-08:00</td>\n",
       "    </tr>\n",
       "    <tr>\n",
       "      <th>3</th>\n",
       "      <td>py_demo_client</td>\n",
       "      <td>demo</td>\n",
       "      <td>2nwjevbvxzm7ehb254</td>\n",
       "      <td>https://py-insights.com/account/demo/product?s...</td>\n",
       "      <td>2025-02-21T07:57:40.988Z</td>\n",
       "      <td>link</td>\n",
       "      <td>PY Insights | Product</td>\n",
       "      <td>166321</td>\n",
       "      <td>0</td>\n",
       "      <td>2025-02-20T23:57:40-08:00</td>\n",
       "    </tr>\n",
       "    <tr>\n",
       "      <th>4</th>\n",
       "      <td>py_demo_client</td>\n",
       "      <td>demo</td>\n",
       "      <td>2nwjevbvxzm7ehb254</td>\n",
       "      <td>https://py-insights.com/account/demo/product</td>\n",
       "      <td>2025-02-21T07:57:38.017Z</td>\n",
       "      <td>link</td>\n",
       "      <td>PY Insights | Product</td>\n",
       "      <td>166318</td>\n",
       "      <td>0</td>\n",
       "      <td>2025-02-20T23:57:38-08:00</td>\n",
       "    </tr>\n",
       "  </tbody>\n",
       "</table>\n",
       "</div>"
      ],
      "text/plain": [
       "0           OrgId ParticipantId            DeviceId  \\\n",
       "0  py_demo_client          demo  2nwjevbvxzm7ehb254   \n",
       "1  py_demo_client          demo  2nwjevbvxzm7ehb254   \n",
       "2  py_demo_client          demo  2nwjevbvxzm7ehb254   \n",
       "3  py_demo_client          demo  2nwjevbvxzm7ehb254   \n",
       "4  py_demo_client          demo  2nwjevbvxzm7ehb254   \n",
       "\n",
       "0                                                url  \\\n",
       "0  chrome-extension://hkmmnfimlpcphpgnmgdecpdpaef...   \n",
       "1  https://chromewebstore.google.com/detail/snaps...   \n",
       "2  https://py-insights.com/account/demo/product?s...   \n",
       "3  https://py-insights.com/account/demo/product?s...   \n",
       "4       https://py-insights.com/account/demo/product   \n",
       "\n",
       "0              eventtimeutc transition                        title visitId  \\\n",
       "0  2025-02-21T07:58:02.688Z       link                          NaN  166328   \n",
       "1  2025-02-21T07:57:51.308Z       link  Snapshot - Chrome Web Store  166327   \n",
       "2  2025-02-21T07:57:40.972Z       link        PY Insights | Product  166319   \n",
       "3  2025-02-21T07:57:40.988Z       link        PY Insights | Product  166321   \n",
       "4  2025-02-21T07:57:38.017Z       link        PY Insights | Product  166318   \n",
       "\n",
       "0 referringVisitId                  eventtime  \n",
       "0                0  2025-02-20T23:58:02-08:00  \n",
       "1           166326  2025-02-20T23:57:51-08:00  \n",
       "2                0  2025-02-20T23:57:40-08:00  \n",
       "3                0  2025-02-20T23:57:40-08:00  \n",
       "4                0  2025-02-20T23:57:38-08:00  "
      ]
     },
     "execution_count": 6,
     "metadata": {},
     "output_type": "execute_result"
    }
   ],
   "source": [
    "data_browsing = data.iloc[4:,:]\n",
    "data_browsing.reset_index(drop=True, inplace=True)\n",
    "#To make row as column headers\n",
    "data_browsing.columns = data_browsing.iloc[0]\n",
    "data_browsing = data_browsing.drop(0)\n",
    "data_browsing.reset_index(drop=True, inplace=True)\n",
    "data_browsing.head()"
   ]
  },
  {
   "cell_type": "code",
   "execution_count": 7,
   "id": "b4ec9d62-1dc6-442a-b379-a4a2ebd6f813",
   "metadata": {},
   "outputs": [
    {
     "data": {
      "text/plain": [
       "0\n",
       "title    53\n",
       "dtype: int64"
      ]
     },
     "execution_count": 7,
     "metadata": {},
     "output_type": "execute_result"
    }
   ],
   "source": [
    "#check missing values\n",
    "missing_values = data_browsing.isnull().sum()\n",
    "\n",
    "missing_values[missing_values > 0]"
   ]
  },
  {
   "cell_type": "code",
   "execution_count": 8,
   "id": "97d25e34-dbcc-4741-a4e7-32fa01c2a4c2",
   "metadata": {},
   "outputs": [],
   "source": [
    "data_browsing = data_browsing.dropna() # dropping nan values"
   ]
  },
  {
   "cell_type": "code",
   "execution_count": 9,
   "id": "70b34fc9-76eb-45bf-b1fb-a00fb0d1afb6",
   "metadata": {},
   "outputs": [
    {
     "data": {
      "text/plain": [
       "0\n",
       "OrgId               object\n",
       "ParticipantId       object\n",
       "DeviceId            object\n",
       "url                 object\n",
       "eventtimeutc        object\n",
       "transition          object\n",
       "title               object\n",
       "visitId             object\n",
       "referringVisitId    object\n",
       "eventtime           object\n",
       "dtype: object"
      ]
     },
     "execution_count": 9,
     "metadata": {},
     "output_type": "execute_result"
    }
   ],
   "source": [
    "data_browsing.dtypes"
   ]
  },
  {
   "cell_type": "code",
   "execution_count": 10,
   "id": "dc87ce6d-7e0a-4284-8cd7-a0e196603b4b",
   "metadata": {},
   "outputs": [
    {
     "data": {
      "text/plain": [
       "0"
      ]
     },
     "execution_count": 10,
     "metadata": {},
     "output_type": "execute_result"
    }
   ],
   "source": [
    "data_browsing.duplicated().sum() #checking duplicate rows"
   ]
  },
  {
   "cell_type": "code",
   "execution_count": 11,
   "id": "3d696c69-7371-40cb-a47c-e606f406173c",
   "metadata": {},
   "outputs": [
    {
     "data": {
      "text/plain": [
       "title\n",
       "Messages                                                                                                                           358\n",
       "Google Flights - Find Cheap Flight Options & Track Prices                                                                          116\n",
       "Android QA/Local Tester in Philippines (must be well versed in local language and English)                                          79\n",
       "Facebook                                                                                                                            73\n",
       "Kolkata to Tokyo | Google Flights                                                                                                   49\n",
       "                                                                                                                                  ... \n",
       "Airbnb’s 43-year-old CEO rejects fellow tech titans’ lack of sleep: It makes ‘every hour the next day a little less productive’      1\n",
       "Tassajara Danville Single Family Homes For Sale - 15 Homes | Zillow                                                                  1\n",
       "Tassajara Danville Single Family Homes For Sale - 12 Homes | Zillow                                                                  1\n",
       "Tassajara Danville Single Family Homes For Sale - 16 Homes | Zillow                                                                  1\n",
       "Snapshot - Chrome Web Store                                                                                                          1\n",
       "Name: count, Length: 1382, dtype: int64"
      ]
     },
     "execution_count": 11,
     "metadata": {},
     "output_type": "execute_result"
    }
   ],
   "source": [
    "data_browsing['title'].value_counts()"
   ]
  },
  {
   "cell_type": "code",
   "execution_count": 12,
   "id": "01df2020-2af8-4593-9cfa-49737c4ea94f",
   "metadata": {},
   "outputs": [],
   "source": [
    "#extract date, day, time ,month and year\n",
    "data_browsing['eventtimeutc'] = pd.to_datetime(data_browsing['eventtimeutc'])\n",
    "\n",
    "data_browsing['year'] = data_browsing['eventtimeutc'].dt.year\n",
    "data_browsing['month'] = data_browsing['eventtimeutc'].dt.month\n",
    "data_browsing['date'] = data_browsing['eventtimeutc'].dt.date \n",
    "data_browsing['time'] = data_browsing['eventtimeutc'].dt.time  \n",
    "data_browsing['hour'] = data_browsing['eventtimeutc'].dt.hour\n",
    "data_browsing['day_of_week'] = data_browsing['eventtimeutc'].dt.day_name() \n",
    "# data_browsing.head()"
   ]
  },
  {
   "cell_type": "code",
   "execution_count": 13,
   "id": "9affd0a8-012c-4372-8095-7ba2a5d6cddd",
   "metadata": {},
   "outputs": [],
   "source": [
    "data_browsing.to_csv('data_browsing.csv',index = False)"
   ]
  }
 ],
 "metadata": {
  "kernelspec": {
   "display_name": "Python 3 (ipykernel)",
   "language": "python",
   "name": "python3"
  },
  "language_info": {
   "codemirror_mode": {
    "name": "ipython",
    "version": 3
   },
   "file_extension": ".py",
   "mimetype": "text/x-python",
   "name": "python",
   "nbconvert_exporter": "python",
   "pygments_lexer": "ipython3",
   "version": "3.12.4"
  }
 },
 "nbformat": 4,
 "nbformat_minor": 5
}
